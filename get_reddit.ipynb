{
  "cells": [
    {
      "cell_type": "markdown",
      "metadata": {},
      "source": [
        "Full documentation of the pushshift API can be found here -> https://github.com/pushshift/api"
      ]
    },
    {
      "cell_type": "code",
      "execution_count": 3,
      "metadata": {
        "colab": {
          "base_uri": "https://localhost:8080/"
        },
        "id": "ffC2GrBiz3Mx",
        "outputId": "5ada6de7-7d19-4111-e05a-2d32a938f5ae"
      },
      "outputs": [],
      "source": [
        "import requests\n",
        "import praw # install this\n",
        "import pandas as pd\n",
        "import datetime as dt\n",
        "import time\n",
        "import math\n",
        "from IPython.display import clear_output\n",
        "import timeit\n",
        "import csv\n",
        "import numpy as np\n",
        "import pmaw # install this\n",
        "from pmaw import PushshiftAPI"
      ]
    },
    {
      "cell_type": "markdown",
      "metadata": {},
      "source": [
        "Each subreddit in reddit has submissions, as well as the associated comments. You cannot fetch both at the same time, but you can get all the submissions first in a subreddit for a date, and then use the comment ids in the submissions to fetch the comments. So 2 steps. We show the first step here first."
      ]
    },
    {
      "cell_type": "code",
      "execution_count": 4,
      "metadata": {
        "id": "cm4zdvA_z7rJ"
      },
      "outputs": [],
      "source": [
        "api = PushshiftAPI()\n",
        "\n",
        "subreddit = 'wallstreetbets' \n",
        "limit = 1000000\n",
        "comment_threshold  = 10\n",
        "start_date = dt.datetime(2020,1,1) # year, month, day\n",
        "end_date = dt.datetime(2020,1,5) # year, month, day\n",
        "\n",
        "# Use this if you want to count from today and get say the last 30 days of submissions\n",
        "# end_date = dt.datetime.today() \n",
        "# timespan = dt.timedelta(days=30)\n",
        "# start_date = end_date - timespan\n",
        "# print(start_date, '|', end_date)\n",
        "\n",
        "after = int(start_date.timestamp()) # subs after this date, i.e. start\n",
        "before = int(end_date.timestamp()) # subs before this date, i.e. end\n",
        "\n",
        "# print(after, before)"
      ]
    },
    {
      "cell_type": "code",
      "execution_count": 5,
      "metadata": {},
      "outputs": [
        {
          "name": "stdout",
          "output_type": "stream",
          "text": [
            "WARNING:pmaw.PushshiftAPIBase:Not all PushShift shards are active. Query results may be incomplete.\n",
            "INFO:pmaw.PushshiftAPIBase:999198 result(s) not found in Pushshift\n",
            "WARNING:pmaw.PushshiftAPIBase:Not all PushShift shards are active. Query results may be incomplete.\n",
            "WARNING:pmaw.PushshiftAPIBase:Not all PushShift shards are active. Query results may be incomplete.\n",
            "INFO:pmaw.PushshiftAPIBase:Total:: Success Rate: 100.00% - Requests: 13 - Batches: 2 - Items Remaining: 1\n",
            "WARNING:pmaw.PushshiftAPIBase:Not all PushShift shards are active. Query results may be incomplete.\n",
            "INFO:pmaw.PushshiftAPIBase:1 result(s) not found in Pushshift\n",
            "801\n"
          ]
        }
      ],
      "source": [
        "# around 1m subs for 5 days, 2m subs for a month\n",
        "submissions = api.search_submissions(subreddit=subreddit, limit=limit, before=before, after=after) # get subs\n",
        "\n",
        "# process subs into a dataframe\n",
        "submissions_df = pd.DataFrame(submissions)\n",
        "submissions_df['date'] = pd.to_datetime(submissions_df['created_utc'], unit='s')\n",
        "print(len(submissions_df))\n",
        "\n",
        "# filter subs with comments of > 10\n",
        "submissions_df = submissions_df[submissions_df.num_comments>comment_threshold]"
      ]
    },
    {
      "cell_type": "code",
      "execution_count": 6,
      "metadata": {},
      "outputs": [],
      "source": [
        "# submissions_df[['id', 'title', 'num_comments']].sort_values('num_comments', ascending=False)[:10]"
      ]
    },
    {
      "cell_type": "markdown",
      "metadata": {},
      "source": [
        "Here we show step 2, where we get all the comment ids based on the sub id."
      ]
    },
    {
      "cell_type": "code",
      "execution_count": 7,
      "metadata": {},
      "outputs": [
        {
          "data": {
            "text/plain": [
              "271"
            ]
          },
          "execution_count": 7,
          "metadata": {},
          "output_type": "execute_result"
        }
      ],
      "source": [
        "submission_list = list(submissions_df.id)\n",
        "len(submission_list)"
      ]
    },
    {
      "cell_type": "code",
      "execution_count": 8,
      "metadata": {},
      "outputs": [
        {
          "name": "stdout",
          "output_type": "stream",
          "text": [
            "INFO:pmaw.PushshiftAPIBase:Total:: Success Rate: 100.00% - Requests: 1 - Batches: 1 - Items Remaining: 0\n",
            "16\n",
            "INFO:pmaw.PushshiftAPIBase:Total:: Success Rate: 100.00% - Requests: 1 - Batches: 1 - Items Remaining: 0\n",
            "44\n",
            "INFO:pmaw.PushshiftAPIBase:Total:: Success Rate: 100.00% - Requests: 1 - Batches: 1 - Items Remaining: 0\n",
            "62\n",
            "INFO:pmaw.PushshiftAPIBase:Total:: Success Rate: 100.00% - Requests: 1 - Batches: 1 - Items Remaining: 0\n",
            "78\n",
            "INFO:pmaw.PushshiftAPIBase:Total:: Success Rate: 100.00% - Requests: 1 - Batches: 1 - Items Remaining: 0\n",
            "165\n"
          ]
        }
      ],
      "source": [
        "# We use this to get the IDs of all the comments of a specific submission ID, and download it with the search_comments function in the api\n",
        "submission_id = submission_list[0]\n",
        "api_endpt = f'https://api.pushshift.io/reddit/submission/comment_ids/{submission_id}'\n",
        "response = requests.get(api_endpt)\n",
        "comment_ids = list(response.json()['data'])\n",
        "comments = api.search_comments(ids=comment_ids)\n",
        "comments_df = pd.DataFrame(comments)\n",
        "comments_df['submission_id'] = submission_id\n",
        "print(len(comments_df))"
      ]
    },
    {
      "cell_type": "code",
      "execution_count": null,
      "metadata": {},
      "outputs": [],
      "source": [
        "# Loop to fetch all submissions\n",
        "for i in range(1,len(submission_list)):\n",
        "    submission_id = submission_list[i]\n",
        "    api_endpt = f'https://api.pushshift.io/reddit/submission/comment_ids/{submission_id}'\n",
        "    response = requests.get(api_endpt)\n",
        "    comment_ids = list(response.json()['data'])\n",
        "    comments = api.search_comments(ids=comment_ids)\n",
        "    temp_df = pd.DataFrame(comments)\n",
        "    temp_df['submission_id'] = submission_id\n",
        "    comments_df = comments_df.append(temp_df)\n",
        "    print(len(comments_df))"
      ]
    },
    {
      "cell_type": "code",
      "execution_count": null,
      "metadata": {},
      "outputs": [],
      "source": []
    }
  ],
  "metadata": {
    "colab": {
      "collapsed_sections": [],
      "name": "refined_red_scrape.ipynb",
      "provenance": []
    },
    "interpreter": {
      "hash": "4dc61c48035a2d0e7cce486d779e81f53a0347be39e909388720663d48da2e38"
    },
    "kernelspec": {
      "display_name": "Python 3.8.11 64-bit ('py': conda)",
      "name": "python3"
    },
    "language_info": {
      "codemirror_mode": {
        "name": "ipython",
        "version": 3
      },
      "file_extension": ".py",
      "mimetype": "text/x-python",
      "name": "python",
      "nbconvert_exporter": "python",
      "pygments_lexer": "ipython3",
      "version": "3.8.10"
    }
  },
  "nbformat": 4,
  "nbformat_minor": 2
}
